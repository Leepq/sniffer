{
 "cells": [
  {
   "cell_type": "code",
   "execution_count": 19,
   "metadata": {
    "collapsed": true
   },
   "outputs": [],
   "source": [
    "# Read in data\n",
    "with open(\"C:/Users/anon/Desktop/Fyp/sniffer-20180327-4flifts.LOG\") as f:\n",
    "    log_4flifts = f.readlines()\n",
    "with open(\"C:/Users/anon/Desktop/Fyp/sniffer-20180327-4flobby.LOG\") as f:\n",
    "    log_4flobby = f.readlines()"
   ]
  },
  {
   "cell_type": "code",
   "execution_count": 22,
   "metadata": {},
   "outputs": [
    {
     "name": "stdout",
     "output_type": "stream",
     "text": [
      "45184\n",
      "68656\n"
     ]
    }
   ],
   "source": [
    "print(len(log_4flifts))\n",
    "print(len(log_4flobby))"
   ]
  },
  {
   "cell_type": "code",
   "execution_count": 3,
   "metadata": {},
   "outputs": [
    {
     "name": "stdout",
     "output_type": "stream",
     "text": [
      "Wrapped at line 6663 (88023099 -> 5559293)\n",
      "Wrapped at line 12695 (227216543 -> 201747881)\n",
      "Wrapped at line 12706 (201761649 -> 81064987)\n",
      "Wrapped at line 13132 (87525657 -> 48022574)\n",
      "Wrapped at line 23232 (208744193 -> 3923104)\n",
      "Wrapped at line 43246 (218464031 -> 35852657)\n",
      "Wrapped at line 43254 (35868613 -> 12462143)\n",
      "Wrapped at line 50422 (56878787 -> 7032284)\n",
      "Wrapped at line 50478 (43281633 -> 5811598)\n",
      "Wrapped at line 50486 (16486127 -> 2291420)\n",
      "Wrapped at line 51542 (31726924 -> 7248679)\n",
      "Wrapped at line 54206 (274646769 -> 16659028)\n",
      "Wrapped at line 96414 (216351408 -> 38446852)\n",
      "Wrapped at line 108350 (238683474 -> 11121184)\n",
      "Wrapped at line 370621 (1683786300 -> 14829846)\n",
      "Wrapped at line 370659 (18250744 -> 10463321)\n",
      "Wrapped at line 394020 (237364180 -> 32313296)\n",
      "Wrapped at line 394074 (37517818 -> 5266461)\n",
      "Wrapped at line 460890 (1267148161 -> 103555128)\n",
      "Wrapped at line 466022 (906803369 -> 16161594)\n",
      "Wrapped at line 466038 (40586975 -> 5643897)\n",
      "Wrapped at line 466054 (14993800 -> 767942)\n",
      "Wrapped at line 466102 (81673281 -> 908295)\n",
      "Wrapped at line 468531 (150834207 -> 869407)\n",
      "Wrapped at line 468547 (3131933 -> 929823)\n",
      "Wrapped at line 580259 (4294747312 -> 275063)\n",
      "Wrapped at line 615442 (2939176889 -> 188320)\n",
      "Wrapped at line 673079 (4294752197 -> 881928)\n",
      "Wrapped at line 733628 (4292965068 -> 153369)\n",
      "Wrapped at line 743410 (2088350276 -> 8438920)\n",
      "Wrapped at line 743521 (25436078 -> 1049836)\n",
      "Wrapped at line 743537 (3381500 -> 155853)\n",
      "Wrapped at line 800345 (4294941643 -> 18554)\n",
      "Wrapped at line 856609 (4294953525 -> 6645)\n",
      "Wrapped at line 929600 (4294691027 -> 1567223)\n",
      "Wrapped at line 969049 (4294752391 -> 564256)\n",
      "Wrapped at line 992243 (4294893401 -> 114042)\n",
      "Wrapped at line 1009450 (4294182000 -> 2734601)\n",
      "Wrapped at line 1017313 (4294482560 -> 8110789)\n",
      "Wrapped at line 1023092 (4292342435 -> 5833991)\n",
      "Wrapped at line 1029008 (4269002063 -> 4822782)\n",
      "Wrapped at line 1029818 (4261430482 -> 10195112)\n",
      "Wrapped at line 1030246 (4192945880 -> 17406689)\n",
      "Wrapped at line 1030556 (3402977380 -> 725842615)\n",
      "Wrapped at line 1030578 (2607752277 -> 102044260)\n",
      "Wrapped at line 1030754 (4271164371 -> 34181182)\n",
      "Wrapped at line 1031404 (4268005881 -> 74746386)\n",
      "Wrapped at line 1033204 (4293678874 -> 12944015)\n",
      "Wrapped at line 1038169 (4294694948 -> 169669)\n",
      "Wrapped at line 1063759 (4294897367 -> 9769)\n",
      "Wrapped at line 1100492 (4294803926 -> 25250)\n",
      "Wrapped at line 1139935 (4294665429 -> 118201)\n",
      "Wrapped at line 1184800 (4293401646 -> 586476)\n",
      "Wrapped at line 1223558 (4294369724 -> 2005456)\n",
      "Wrapped at line 1293298 (4294924825 -> 258742)\n",
      "Wrapped at line 1335247 (4294965443 -> 6233)\n",
      "Wrapped at line 1374677 (4294839018 -> 276763)\n",
      "Wrapped at line 1401493 (4294672231 -> 95845)\n",
      "Wrapped at line 1409249 (2591276825 -> 1678048)\n",
      "Wrapped at line 1417221 (4294765305 -> 1902500)\n",
      "Wrapped at line 1426537 (4291923644 -> 109259)\n",
      "Wrapped at line 1432225 (2184968834 -> 928513)\n",
      "Wrapped at line 1432273 (13906630 -> 6927652)\n",
      "Wrapped at line 1432513 (86037931 -> 312777)\n",
      "Wrapped at line 1432559 (10492836 -> 2349538)\n",
      "Wrapped at line 1507024 (4294669355 -> 75829)\n",
      "Wrapped at line 1549434 (4294919709 -> 2266486)\n",
      "Wrapped at line 1597376 (4293813710 -> 1920248)\n",
      "Wrapped at line 1632184 (4290503266 -> 8705048)\n",
      "Wrapped at line 1636207 (4294964481 -> 43835)\n",
      "Wrapped at line 1641636 (4293325875 -> 679234)\n",
      "Wrapped at line 1649052 (4292171996 -> 1808445)\n",
      "Wrapped at line 1657757 (4294825879 -> 73461)\n",
      "Wrapped at line 1665931 (4292414509 -> 8496934)\n",
      "Wrapped at line 1703665 (4291487168 -> 1821708)\n",
      "Wrapped at line 1706384 (4290833171 -> 12739609)\n",
      "Wrapped at line 1710226 (4288467680 -> 16907838)\n",
      "Wrapped at line 1714457 (4291560306 -> 4968266)\n",
      "Wrapped at line 1718085 (4294669224 -> 705522)\n",
      "Wrapped at line 1721635 (4294592179 -> 957635)\n",
      "Wrapped at line 1724752 (4294443695 -> 534466)\n",
      "Wrapped at line 1728758 (4293646976 -> 2415142)\n",
      "Wrapped at line 1732896 (4294014902 -> 606467)\n",
      "Wrapped at line 1737131 (4294814156 -> 424124)\n",
      "Wrapped at line 1741018 (4294832732 -> 200646)\n",
      "Wrapped at line 1746999 (4294877905 -> 2102849)\n",
      "Wrapped at line 1750616 (4285715660 -> 4339116)\n",
      "Wrapped at line 1754523 (4294652320 -> 167948)\n",
      "Wrapped at line 1758408 (4290864861 -> 6411962)\n",
      "Wrapped at line 1761572 (4283044031 -> 1569857)\n",
      "Wrapped at line 1765154 (4272399735 -> 10082058)\n",
      "Wrapped at line 1770779 (4293567910 -> 656584)\n",
      "Wrapped at line 1784632 (4292553876 -> 8893714)\n",
      "Wrapped at line 1795187 (4293655942 -> 722019)\n",
      "Wrapped at line 1799650 (4293254287 -> 6146269)\n",
      "Wrapped at line 1801318 (4286196972 -> 128060)\n",
      "Wrapped at line 1808541 (4288315818 -> 6194781)\n",
      "Wrapped at line 1808671 (204441055 -> 2286257)\n",
      "Wrapped at line 1810835 (4275999587 -> 3865374)\n",
      "Wrapped at line 1813245 (4290491639 -> 26288397)\n",
      "Wrapped at line 1817683 (4294445332 -> 2930862)\n",
      "Wrapped at line 1821569 (4293405058 -> 14635069)\n",
      "Wrapped at line 1825864 (4291450110 -> 59022)\n",
      "Wrapped at line 1826527 (665494496 -> 1168803)\n"
     ]
    }
   ],
   "source": [
    "log_file = open(\"C:/Users/anon/Desktop/Fyp/SNIFFERsandiskfat.LOG\")\n",
    "# Define log_file as open(\"...\") first\n",
    "# Look for data rollovers, if the roll over value is near 2**32 it is an overflow, otherwise it is a reboot\n",
    "lf_linenum = 0\n",
    "last_timestamp = 0\n",
    "for lf_line in log_file:\n",
    "    lf_linenum += 1\n",
    "    try:\n",
    "        this_timestamp = int(lf_line[:10])\n",
    "    except ValueError:\n",
    "        continue\n",
    "    if last_timestamp > this_timestamp:\n",
    "        print(\"Wrapped at line %d (%d -> %d)\"%(lf_linenum,last_timestamp,this_timestamp))\n",
    "    last_timestamp = this_timestamp"
   ]
  },
  {
   "cell_type": "code",
   "execution_count": 49,
   "metadata": {
    "collapsed": true
   },
   "outputs": [],
   "source": [
    "# Convert lines of frame to Python dictionaries\n",
    "def sniffer_log_to_dict(sniffer_log: \"List[Str]\") -> \"List[Dict]\":\n",
    "    ret_dicts = []\n",
    "    last_timestamp = 0\n",
    "    overflow_counts = 0\n",
    "    for l in sniffer_log:\n",
    "        ret_dict = {}\n",
    "        this_timestamp = int(l[:10])/1e6\n",
    "        if last_timestamp > this_timestamp:\n",
    "            # Overflow, add 2**32\n",
    "            overflow_counts += 1\n",
    "        last_timestamp = this_timestamp\n",
    "        this_timestamp += 2**32/1e6*overflow_counts\n",
    "        ret_dict[\"timestamp\"] = this_timestamp\n",
    "        ret_dict[\"channel\"] = int(l[13:15])\n",
    "        ret_dict[\"rssi\"] = int(l[18:21])\n",
    "        ret_dict[\"frame_type\"] = l[22:24]\n",
    "        ret_dict[\"ds_flag\"] = l[25:27]\n",
    "        ret_dict[\"dest_mac\"] = l[28:40]\n",
    "        ret_dict[\"src_mac\"] = l[41:53]\n",
    "        ret_dicts += [ret_dict]\n",
    "    return ret_dicts"
   ]
  },
  {
   "cell_type": "code",
   "execution_count": 50,
   "metadata": {
    "collapsed": true
   },
   "outputs": [],
   "source": [
    "dicts_4flifts = sniffer_log_to_dict(log_4flifts)\n",
    "dicts_4flobby = sniffer_log_to_dict(log_4flobby)"
   ]
  },
  {
   "cell_type": "code",
   "execution_count": 53,
   "metadata": {},
   "outputs": [
    {
     "data": {
      "text/plain": [
       "42323.348533000004"
      ]
     },
     "execution_count": 53,
     "metadata": {},
     "output_type": "execute_result"
    }
   ],
   "source": [
    "max(d[\"timestamp\"] for d in dicts_4flifts)"
   ]
  },
  {
   "cell_type": "code",
   "execution_count": 75,
   "metadata": {
    "collapsed": true
   },
   "outputs": [],
   "source": [
    "from collections import Counter\n",
    "c_lifts = Counter(d[\"src_mac\"] for d in dicts_4flifts)\n",
    "c_lobby = Counter(d[\"src_mac\"] for d in dicts_4flobby)"
   ]
  },
  {
   "cell_type": "code",
   "execution_count": 77,
   "metadata": {},
   "outputs": [
    {
     "name": "stdout",
     "output_type": "stream",
     "text": [
      "[('f4428f78b4a', 3226), ('36ce000176b', 3207), ('484baac2f73', 2358), ('c0cecdc064a', 1612), ('60a4d09ad47', 1214), ('01016427ff3', 1157), ('38a4ed57399', 800), ('bc8385ee825', 783), ('00000000010', 636), ('aced5cb77ba', 620)]\n",
      "[('b0594728019', 5291), ('c0cecdc064a', 3215), ('c488e512fb1', 2930), ('484baac2f73', 2910), ('24ce142dff3', 2026), ('e0cbeeb3e78', 2001), ('141f78e4cb5', 1819), ('0607e42dff3', 1297), ('509ea70d80e', 1185), ('0000442bff3', 911)]\n"
     ]
    }
   ],
   "source": [
    "print(c_lifts.most_common(10))\n",
    "print(c_lobby.most_common(10))\n"
   ]
  },
  {
   "cell_type": "code",
   "execution_count": 98,
   "metadata": {
    "collapsed": true
   },
   "outputs": [],
   "source": [
    "xy_interested = [(d[\"timestamp\"],d[\"rssi\"]) for d in dicts_4flifts if '01016427ff3' in d[\"src_mac\"]]"
   ]
  },
  {
   "cell_type": "code",
   "execution_count": 66,
   "metadata": {},
   "outputs": [
    {
     "data": {
      "text/plain": [
       "(793.752495, -94)"
      ]
     },
     "execution_count": 66,
     "metadata": {},
     "output_type": "execute_result"
    }
   ],
   "source": [
    "xy_interested[0]"
   ]
  },
  {
   "cell_type": "code",
   "execution_count": 85,
   "metadata": {
    "collapsed": true
   },
   "outputs": [],
   "source": [
    "import matplotlib.pyplot as plt\n",
    "%matplotlib inline"
   ]
  },
  {
   "cell_type": "code",
   "execution_count": 99,
   "metadata": {},
   "outputs": [
    {
     "data": {
      "text/plain": [
       "<matplotlib.collections.PathCollection at 0x2737724b588>"
      ]
     },
     "execution_count": 99,
     "metadata": {},
     "output_type": "execute_result"
    },
    {
     "data": {
      "image/png": "[encoded data removed]",
      "text/plain": [
       "<matplotlib.figure.Figure at 0x273771c9630>"
      ]
     },
     "metadata": {},
     "output_type": "display_data"
    }
   ],
   "source": [
    "plt.scatter(*list(zip(*xy_interested)))"
   ]
  },
  {
   "cell_type": "code",
   "execution_count": null,
   "metadata": {
    "collapsed": true
   },
   "outputs": [],
   "source": []
  }
 ],
 "metadata": {
  "kernelspec": {
   "display_name": "Python 3",
   "language": "python",
   "name": "python3"
  },
  "language_info": {
   "codemirror_mode": {
    "name": "ipython",
    "version": 3
   },
   "file_extension": ".py",
   "mimetype": "text/x-python",
   "name": "python",
   "nbconvert_exporter": "python",
   "pygments_lexer": "ipython3",
   "version": "3.6.1"
  }
 },
 "nbformat": 4,
 "nbformat_minor": 2
}

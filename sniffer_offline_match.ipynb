{
 "cells": [
  {
   "cell_type": "code",
   "execution_count": 1,
   "metadata": {
    "scrolled": true
   },
   "outputs": [
    {
     "ename": "SyntaxError",
     "evalue": "unexpected EOF while parsing (<ipython-input-1-7745ca561f34>, line 3)",
     "output_type": "error",
     "traceback": [
      "\u001b[1;36m  File \u001b[1;32m\"<ipython-input-1-7745ca561f34>\"\u001b[1;36m, line \u001b[1;32m3\u001b[0m\n\u001b[1;33m    with open(\"sniffer435.LOG\") as f:\u001b[0m\n\u001b[1;37m                                     ^\u001b[0m\n\u001b[1;31mSyntaxError\u001b[0m\u001b[1;31m:\u001b[0m unexpected EOF while parsing\n"
     ]
    }
   ],
   "source": [
    "# Get offline sniffing logs\n",
    "\n",
    "sniffer_recs = []\n",
    "with open(\"sniffer435.LOG\") as f:\n",
    "    for l in f:\n",
    "        "
   ]
  },
  {
   "cell_type": "code",
   "execution_count": 282,
   "metadata": {},
   "outputs": [],
   "source": [
    "f = open(\"SNIFFERsandiskfat.LOG\")"
   ]
  },
  {
   "cell_type": "code",
   "execution_count": 283,
   "metadata": {},
   "outputs": [
    {
     "data": {
      "text/plain": [
       "0"
      ]
     },
     "execution_count": 283,
     "metadata": {},
     "output_type": "execute_result"
    }
   ],
   "source": [
    "f.seek(0)"
   ]
  },
  {
   "cell_type": "code",
   "execution_count": 266,
   "metadata": {},
   "outputs": [],
   "source": [
    "f_filtered = f.readlines()[468000:469000]\n",
    "len(f_filtered)\n",
    "with open('SNIFFERfiltered.LOG','w') as f:\n",
    "    f.writelines(f_filtered)"
   ]
  },
  {
   "cell_type": "code",
   "execution_count": 276,
   "metadata": {
    "scrolled": true
   },
   "outputs": [
    {
     "name": "stdout",
     "output_type": "stream",
     "text": [
      "Wrapped at line 4161 (1297272993 -> 945269)\n",
      "Wrapped at line 4545 (56957299 -> 345260)\n",
      "Wrapped at line 16369 (1738075093 -> 1080040)\n",
      "Wrapped at line 17566 (4292764228 -> 44474230)\n",
      "Wrapped at line 18687 (4197303362 -> 820652)\n",
      "Wrapped at line 22085 (4290068007 -> 2537643)\n",
      "Wrapped at line 27034 (4286962397 -> 852383)\n",
      "Wrapped at line 50619 (4294889993 -> 5270208)\n",
      "Wrapped at line 74746 (4279401927 -> 5616349)\n",
      "Wrapped at line 83493 (4293594049 -> 21863146)\n",
      "Wrapped at line 89473 (4294948586 -> 8920)\n",
      "Wrapped at line 93142 (4292901455 -> 3404506)\n",
      "Wrapped at line 96618 (4017143259 -> 56285096)\n",
      "Wrapped at line 96748 (4093727961 -> 13910411)\n",
      "Wrapped at line 96817 (4087321032 -> 185107848)\n",
      "Wrapped at line 96885 (4265693205 -> 150428421)\n",
      "Wrapped at line 96996 (4167401574 -> 245082665)\n",
      "Wrapped at line 97423 (4207282188 -> 532091759)\n",
      "Wrapped at line 97628 (4169841016 -> 28750039)\n",
      "Wrapped at line 98303 (4224759851 -> 493793)\n",
      "Wrapped at line 98509 (4285840398 -> 163554)\n",
      "Wrapped at line 99446 (4259115159 -> 421509709)\n",
      "Wrapped at line 99554 (4292606673 -> 18499685)\n",
      "Wrapped at line 102958 (4283435290 -> 899122)\n",
      "Wrapped at line 104216 (4294131068 -> 2273354)\n",
      "Wrapped at line 104641 (4044329238 -> 34725596)\n",
      "Wrapped at line 104788 (4060942915 -> 95411751)\n",
      "Wrapped at line 105274 (4244407051 -> 96984529)\n",
      "Wrapped at line 114803 (4291217301 -> 11694675)\n",
      "Wrapped at line 149921 (4294611689 -> 120327)\n",
      "Wrapped at line 168256 (4279253076 -> 8208866)\n",
      "Wrapped at line 172834 (4284658702 -> 7235033)\n",
      "Wrapped at line 175854 (4163680715 -> 23881802)\n",
      "Wrapped at line 176116 (3955995109 -> 41003356)\n",
      "Wrapped at line 176193 (4225177134 -> 498291656)\n",
      "Wrapped at line 176236 (4257414684 -> 82811284)\n",
      "Wrapped at line 176479 (4199507735 -> 136906723)\n",
      "Wrapped at line 176616 (4244537995 -> 25080539)\n",
      "Wrapped at line 176819 (4284593117 -> 61136282)\n",
      "Wrapped at line 177320 (4291684760 -> 6102564)\n",
      "Wrapped at line 179133 (4292909776 -> 7631619)\n",
      "Wrapped at line 180288 (4288213829 -> 2695224)\n",
      "Wrapped at line 180772 (4173343168 -> 214966467)\n",
      "Wrapped at line 180815 (3119478189 -> 32966092)\n",
      "Wrapped at line 181614 (4285518205 -> 848831)\n",
      "Wrapped at line 182567 (4284339272 -> 28108825)\n",
      "Wrapped at line 183008 (4242378301 -> 40271585)\n",
      "Wrapped at line 185256 (4286904454 -> 13972908)\n",
      "Wrapped at line 188048 (4285498053 -> 12733630)\n",
      "Wrapped at line 189041 (4073638149 -> 40367929)\n",
      "Wrapped at line 190442 (4292957103 -> 26302356)\n",
      "Wrapped at line 203595 (4291330808 -> 940856)\n",
      "Wrapped at line 226855 (4291743723 -> 8900353)\n",
      "Wrapped at line 227349 (4240773041 -> 82846575)\n"
     ]
    }
   ],
   "source": [
    "# Define log_file as open(\"...\") first\n",
    "# Look for data rollovers, if the roll over value is near 2**32 it is an overflow, otherwise it is a reboot\n",
    "lf_linenum = 0\n",
    "last_timestamp = 0\n",
    "for lf_line in f.readlines():\n",
    "    lf_linenum += 1 \n",
    "    try:\n",
    "        this_timestamp = int(lf_line[:10])\n",
    "    except ValueError:\n",
    "        continue\n",
    "    if last_timestamp > this_timestamp:\n",
    "        print(\"Wrapped at line %d (%d -> %d)\"%(lf_linenum,last_timestamp,this_timestamp))\n",
    "    last_timestamp = this_timestamp"
   ]
  },
  {
   "cell_type": "code",
   "execution_count": 284,
   "metadata": {},
   "outputs": [],
   "source": [
    "sniffer_recs = sniffer_log_to_dict(f.readlines()[800345:1826527]) # Sandiskfat\n",
    "#sniffer_recs = sniffer_log_to_dict(f.readlines()[16369:]) # Transcend"
   ]
  },
  {
   "cell_type": "code",
   "execution_count": 279,
   "metadata": {
    "collapsed": true
   },
   "outputs": [],
   "source": [
    "# Convert lines of frame to Python dictionaries\n",
    "def sniffer_log_to_dict(sniffer_log: \"List[Str]\") -> \"List[Dict]\":\n",
    "    ret_dicts = []\n",
    "    last_timestamp = 0\n",
    "    overflow_counts = 0\n",
    "    for l in sniffer_log:\n",
    "        ret_dict = {}\n",
    "        try:\n",
    "            this_timestamp = int(l[:10])/1e6\n",
    "        except ValueError:\n",
    "            # Corrupt frame\n",
    "            continue\n",
    "        if last_timestamp > this_timestamp:\n",
    "            # Overflow, add 2**32\n",
    "            overflow_counts += 1\n",
    "        last_timestamp = this_timestamp\n",
    "        this_timestamp += 2**32/1e6*overflow_counts\n",
    "        ret_dict[\"timestamp\"] = this_timestamp\n",
    "        ret_dict[\"channel\"] = int(l[13:15])\n",
    "        ret_dict[\"rssi\"] = int(l[18:21])\n",
    "        ret_dict[\"frame_type\"] = l[22:24]\n",
    "        ret_dict[\"ds_flag\"] = l[25:27]\n",
    "        ret_dict[\"dest_mac\"] = l[28:40]\n",
    "        ret_dict[\"src_mac\"] = l[41:53]\n",
    "        ret_dicts += [ret_dict]\n",
    "    return ret_dicts"
   ]
  },
  {
   "cell_type": "code",
   "execution_count": 280,
   "metadata": {},
   "outputs": [
    {
     "data": {
      "text/plain": [
       "221086.715311"
      ]
     },
     "execution_count": 280,
     "metadata": {},
     "output_type": "execute_result"
    }
   ],
   "source": [
    "max(d[\"timestamp\"] for d in sniffer_recs)"
   ]
  },
  {
   "cell_type": "code",
   "execution_count": 268,
   "metadata": {
    "collapsed": true
   },
   "outputs": [],
   "source": [
    "# Density histogram\n",
    "from collections import Counter\n",
    "c = Counter(int(d[\"frame_type\"],16) for d in sniffer_recs)"
   ]
  },
  {
   "cell_type": "code",
   "execution_count": 269,
   "metadata": {},
   "outputs": [
    {
     "data": {
      "text/plain": [
       "Counter({0: 3719,\n",
       "         1: 8152,\n",
       "         2: 1420,\n",
       "         3: 896,\n",
       "         4: 174999,\n",
       "         5: 4761,\n",
       "         6: 2954,\n",
       "         7: 7163,\n",
       "         8: 2,\n",
       "         9: 6260,\n",
       "         10: 1531,\n",
       "         11: 7038,\n",
       "         12: 6180,\n",
       "         13: 27674,\n",
       "         14: 6818,\n",
       "         15: 14469,\n",
       "         16: 10079,\n",
       "         17: 12105,\n",
       "         18: 4606,\n",
       "         19: 2741,\n",
       "         20: 789,\n",
       "         21: 2576,\n",
       "         22: 1224,\n",
       "         23: 10214,\n",
       "         24: 12442,\n",
       "         25: 115759,\n",
       "         26: 12694,\n",
       "         27: 22624,\n",
       "         28: 12064,\n",
       "         29: 1512,\n",
       "         30: 2887,\n",
       "         31: 6527,\n",
       "         32: 8163,\n",
       "         33: 2222,\n",
       "         34: 539,\n",
       "         35: 5540,\n",
       "         36: 145820,\n",
       "         37: 11522,\n",
       "         38: 5712,\n",
       "         39: 20993,\n",
       "         40: 106246,\n",
       "         41: 738,\n",
       "         42: 4961,\n",
       "         43: 13335,\n",
       "         44: 62743,\n",
       "         45: 14673,\n",
       "         46: 24460,\n",
       "         47: 7219,\n",
       "         48: 13251,\n",
       "         49: 3008,\n",
       "         50: 1248,\n",
       "         51: 1793,\n",
       "         52: 896,\n",
       "         53: 7746,\n",
       "         54: 2783,\n",
       "         55: 98,\n",
       "         56: 4353,\n",
       "         57: 791,\n",
       "         58: 3396,\n",
       "         59: 12625,\n",
       "         60: 14973,\n",
       "         61: 5253,\n",
       "         62: 12937,\n",
       "         63: 1266})"
      ]
     },
     "execution_count": 269,
     "metadata": {},
     "output_type": "execute_result"
    }
   ],
   "source": [
    "c"
   ]
  },
  {
   "cell_type": "code",
   "execution_count": 287,
   "metadata": {
    "collapsed": true
   },
   "outputs": [],
   "source": [
    "# Most common packet type in bins, takes about 15s to run\n",
    "most_common_binned = [Counter(s[\"frame_type\"] for s in sniffer_recs if i*1000 < s[\"timestamp\"] < i*1000+1000) for i in range(300)]\n"
   ]
  },
  {
   "cell_type": "code",
   "execution_count": 288,
   "metadata": {
    "collapsed": true
   },
   "outputs": [],
   "source": [
    "mcb_values = [c.most_common(1) for c in most_common_binned]"
   ]
  },
  {
   "cell_type": "code",
   "execution_count": 289,
   "metadata": {},
   "outputs": [
    {
     "data": {
      "text/plain": [
       "[[('24', 3333)],\n",
       " [('24', 7005)],\n",
       " [('24', 7112)],\n",
       " [('24', 5956)],\n",
       " [('24', 6069)],\n",
       " [('24', 6209)],\n",
       " [('24', 5163)],\n",
       " [('24', 6088)],\n",
       " [('24', 4849)],\n",
       " [('24', 2449)],\n",
       " [('04', 3068)],\n",
       " [('04', 1435)],\n",
       " [('04', 1214)],\n",
       " [('3d', 1367)],\n",
       " [('3d', 1220)],\n",
       " [('19', 1582)],\n",
       " [('28', 1506)],\n",
       " [('04', 681)],\n",
       " [('19', 833)],\n",
       " [('19', 951)],\n",
       " [('19', 890)],\n",
       " [('19', 1088)],\n",
       " [('04', 617)],\n",
       " [('04', 615)],\n",
       " [('04', 317)],\n",
       " [('04', 381)],\n",
       " [('04', 326)],\n",
       " [('04', 395)],\n",
       " [('04', 281)],\n",
       " [('04', 330)],\n",
       " [('19', 650)],\n",
       " [('19', 518)],\n",
       " [('19', 566)],\n",
       " [('04', 182)],\n",
       " [('04', 178)],\n",
       " [('04', 203)],\n",
       " [('04', 129)],\n",
       " [('04', 110)],\n",
       " [('04', 106)],\n",
       " [('04', 117)],\n",
       " [('04', 106)],\n",
       " [('04', 70)],\n",
       " [('04', 71)],\n",
       " [('04', 95)],\n",
       " [('04', 85)],\n",
       " [('04', 36)],\n",
       " [('24', 1)],\n",
       " [('04', 2)],\n",
       " [],\n",
       " [('04', 9)],\n",
       " [],\n",
       " [('04', 4)],\n",
       " [('04', 7)],\n",
       " [('04', 6)],\n",
       " [('24', 23)],\n",
       " [('04', 98)],\n",
       " [('24', 63)],\n",
       " [('04', 21)],\n",
       " [('04', 28)],\n",
       " [('24', 221)],\n",
       " [('18', 142)],\n",
       " [('24', 132)],\n",
       " [('04', 116)],\n",
       " [('24', 319)],\n",
       " [('04', 214)],\n",
       " [('24', 318)],\n",
       " [('04', 137)],\n",
       " [('04', 375)],\n",
       " [('19', 1141)],\n",
       " [('04', 646)],\n",
       " [('04', 649)],\n",
       " [('28', 6032)],\n",
       " [('28', 4448)],\n",
       " [('28', 5662)],\n",
       " [('04', 1689)],\n",
       " [('04', 1651)],\n",
       " [('1a', 2161)],\n",
       " [('1a', 2278)],\n",
       " [('19', 2471)],\n",
       " [('19', 2433)],\n",
       " [('24', 1753)],\n",
       " [('04', 1920)],\n",
       " [('19', 2031)],\n",
       " [('04', 1935)],\n",
       " [('07', 2824)],\n",
       " [('04', 2584)],\n",
       " [('04', 2024)],\n",
       " [('04', 1979)],\n",
       " [('04', 1973)],\n",
       " [('19', 4141)],\n",
       " [('04', 2887)],\n",
       " [('19', 6228)],\n",
       " [('19', 8646)],\n",
       " [('04', 2686)],\n",
       " [('04', 2274)],\n",
       " [('24', 2603)],\n",
       " [('04', 1819)],\n",
       " [('2c', 1892)],\n",
       " [('2c', 2888)],\n",
       " [('2c', 2780)],\n",
       " [('2c', 3561)],\n",
       " [('2c', 3201)],\n",
       " [('19', 1841)],\n",
       " [('24', 2284)],\n",
       " [('24', 4447)],\n",
       " [('04', 1248)],\n",
       " [('04', 1265)],\n",
       " [('04', 1355)],\n",
       " [('04', 1111)],\n",
       " [('04', 630)],\n",
       " [],\n",
       " [('04', 531)],\n",
       " [('04', 1738)],\n",
       " [('04', 1770)],\n",
       " [('04', 1724)],\n",
       " [('04', 1671)],\n",
       " [('04', 1729)],\n",
       " [('04', 1663)],\n",
       " [('04', 1701)],\n",
       " [('04', 1613)],\n",
       " [('04', 1593)],\n",
       " [('04', 1572)],\n",
       " [('04', 720)],\n",
       " [],\n",
       " [('04', 32)],\n",
       " [],\n",
       " [],\n",
       " [],\n",
       " [('04', 164)],\n",
       " [],\n",
       " [],\n",
       " [],\n",
       " [],\n",
       " [('20', 14)],\n",
       " [],\n",
       " [],\n",
       " [],\n",
       " [('04', 95)],\n",
       " [('35', 2296)],\n",
       " [('35', 3270)],\n",
       " [('27', 2473)],\n",
       " [('1c', 2850)],\n",
       " [('11', 2738)],\n",
       " [('0f', 2407)],\n",
       " [('0f', 1201)],\n",
       " [('3c', 2255)],\n",
       " [('3c', 2606)],\n",
       " [('2e', 2656)],\n",
       " [('2e', 1837)],\n",
       " [('2e', 3102)],\n",
       " [('0e', 2941)],\n",
       " [('3e', 1939)],\n",
       " [('2e', 4304)],\n",
       " [('2e', 1435)],\n",
       " [('04', 331)],\n",
       " [('04', 252)],\n",
       " [('28', 354)],\n",
       " [('04', 301)],\n",
       " [('04', 339)],\n",
       " [('04', 613)],\n",
       " [('04', 408)],\n",
       " [('04', 303)],\n",
       " [('04', 440)],\n",
       " [('19', 409)],\n",
       " [('04', 833)],\n",
       " [('04', 415)],\n",
       " [('04', 575)],\n",
       " [('24', 321)],\n",
       " [('04', 492)],\n",
       " [('04', 889)],\n",
       " [('1e', 801)],\n",
       " [('04', 532)],\n",
       " [('04', 476)],\n",
       " [('04', 613)],\n",
       " [('04', 266)],\n",
       " [('28', 488)],\n",
       " [('04', 234)],\n",
       " [('04', 375)],\n",
       " [('28', 10076)],\n",
       " [('28', 17386)],\n",
       " [('28', 4298)],\n",
       " [('04', 207)],\n",
       " [('04', 338)],\n",
       " [('04', 349)],\n",
       " [('04', 346)],\n",
       " [('04', 534)],\n",
       " [('04', 205)],\n",
       " [('19', 304)],\n",
       " [('04', 196)],\n",
       " [('0d', 256)],\n",
       " [('0d', 250)],\n",
       " [('0d', 323)],\n",
       " [('0d', 246)],\n",
       " [('0d', 265)],\n",
       " [('0d', 329)],\n",
       " [('24', 218)],\n",
       " [('0d', 211)],\n",
       " [('0d', 255)],\n",
       " [('0d', 527)],\n",
       " [('24', 329)],\n",
       " [('24', 164)],\n",
       " [('04', 441)],\n",
       " [('04', 201)],\n",
       " [('04', 440)],\n",
       " [('24', 279)],\n",
       " [('04', 229)],\n",
       " [('04', 224)],\n",
       " [('04', 337)],\n",
       " [('04', 563)],\n",
       " [('04', 338)],\n",
       " [('04', 300)],\n",
       " [('04', 616)],\n",
       " [('04', 275)],\n",
       " [('28', 176)],\n",
       " [('24', 265)],\n",
       " [('24', 347)],\n",
       " [('24', 287)],\n",
       " [('04', 447)],\n",
       " [('04', 448)],\n",
       " [('24', 402)],\n",
       " [('28', 257)],\n",
       " [('04', 463)],\n",
       " [('04', 389)],\n",
       " [('04', 228)],\n",
       " [('28', 1835)],\n",
       " [('04', 218)],\n",
       " [('04', 199)],\n",
       " [('04', 343)],\n",
       " [('04', 293)],\n",
       " [('04', 326)],\n",
       " [('04', 388)],\n",
       " [('04', 450)],\n",
       " [('04', 527)],\n",
       " [('04', 296)],\n",
       " [('04', 534)],\n",
       " [('04', 728)],\n",
       " [('04', 535)],\n",
       " [('04', 314)],\n",
       " [('04', 455)],\n",
       " [('04', 378)],\n",
       " [('04', 414)],\n",
       " [('04', 298)],\n",
       " [('04', 253)],\n",
       " [('04', 370)],\n",
       " [('04', 371)],\n",
       " [('04', 404)],\n",
       " [('04', 290)],\n",
       " [('04', 523)],\n",
       " [('04', 300)],\n",
       " [('04', 589)],\n",
       " [('04', 684)],\n",
       " [('04', 408)],\n",
       " [('04', 552)],\n",
       " [('28', 935)],\n",
       " [('28', 753)],\n",
       " [('04', 912)],\n",
       " [('04', 836)],\n",
       " [('04', 696)],\n",
       " [('04', 1004)],\n",
       " [('04', 972)],\n",
       " [('1b', 810)],\n",
       " [('04', 375)],\n",
       " [('04', 350)],\n",
       " [('04', 299)],\n",
       " [('04', 349)],\n",
       " [('04', 269)],\n",
       " [('04', 202)],\n",
       " [('04', 182)],\n",
       " [('04', 178)],\n",
       " [('04', 222)],\n",
       " [('0d', 230)],\n",
       " [('04', 444)],\n",
       " [('0f', 724)],\n",
       " [('04', 524)],\n",
       " [('04', 276)],\n",
       " [('04', 65)],\n",
       " [],\n",
       " [],\n",
       " [],\n",
       " [('0c', 160)],\n",
       " [('0c', 160)],\n",
       " [('04', 189)],\n",
       " [('24', 300)],\n",
       " [('24', 158)],\n",
       " [('24', 234)],\n",
       " [('04', 252)],\n",
       " [('04', 265)],\n",
       " [('04', 104)],\n",
       " [('04', 244)],\n",
       " [('07', 616)],\n",
       " [('04', 1188)],\n",
       " [('04', 367)],\n",
       " [('04', 486)],\n",
       " [('04', 452)],\n",
       " [('04', 315)],\n",
       " [('04', 399)],\n",
       " [('04', 457)],\n",
       " [('04', 652)],\n",
       " [('04', 311)],\n",
       " [('04', 604)]]"
      ]
     },
     "execution_count": 289,
     "metadata": {},
     "output_type": "execute_result"
    }
   ],
   "source": [
    "mcb_values"
   ]
  },
  {
   "cell_type": "code",
   "execution_count": 303,
   "metadata": {},
   "outputs": [
    {
     "data": {
      "image/png": "[encoded data removed]",
      "text/plain": [
       "<matplotlib.figure.Figure at 0x1d089195b70>"
      ]
     },
     "metadata": {},
     "output_type": "display_data"
    }
   ],
   "source": [
    "c = Counter(int(d[\"timestamp\"]/1000) for d in sniffer_recs)\n",
    "plt.bar(range(len(c.values())),list(c[i] for i in range(len(c.values()))),width=1.0)# Color with most common frame type\n",
    "plt.xlim(0,300)\n",
    "plt.show()"
   ]
  },
  {
   "cell_type": "code",
   "execution_count": 290,
   "metadata": {},
   "outputs": [
    {
     "data": {
      "image/png": "[encoded data removed]",
      "text/plain": [
       "<matplotlib.figure.Figure at 0x1d080323fd0>"
      ]
     },
     "metadata": {},
     "output_type": "display_data"
    }
   ],
   "source": [
    "c = Counter(int(d[\"frame_type\"],16) for d in sniffer_recs)\n",
    "plt.bar(list(range(64)),list(c[i] for i in range(64)),color=[[0.2,0.4,0.7]]*48+[[0.9,0,0]]*16)\n",
    "plt.show()"
   ]
  },
  {
   "cell_type": "code",
   "execution_count": 101,
   "metadata": {
    "collapsed": true
   },
   "outputs": [],
   "source": [
    "sniffer_recs_filtered = set(d[\"src_mac\"][:6] for d in sniffer_recs)"
   ]
  },
  {
   "cell_type": "code",
   "execution_count": 94,
   "metadata": {},
   "outputs": [
    {
     "data": {
      "text/plain": [
       "28040"
      ]
     },
     "execution_count": 94,
     "metadata": {},
     "output_type": "execute_result"
    }
   ],
   "source": [
    "len(sniffer_recs_filtered)"
   ]
  },
  {
   "cell_type": "code",
   "execution_count": 102,
   "metadata": {},
   "outputs": [
    {
     "data": {
      "text/plain": [
       "True"
      ]
     },
     "execution_count": 102,
     "metadata": {},
     "output_type": "execute_result"
    }
   ],
   "source": [
    "'000f74' in list(sniffer_recs_filtered)"
   ]
  },
  {
   "cell_type": "code",
   "execution_count": 130,
   "metadata": {},
   "outputs": [],
   "source": [
    "sniffer_recs_plot = [d for d in sniffer_recs if '009569' in d[\"src_mac\"]]"
   ]
  },
  {
   "cell_type": "code",
   "execution_count": 131,
   "metadata": {},
   "outputs": [
    {
     "data": {
      "text/plain": [
       "27"
      ]
     },
     "execution_count": 131,
     "metadata": {},
     "output_type": "execute_result"
    }
   ],
   "source": [
    "len(sniffer_recs_plot)"
   ]
  },
  {
   "cell_type": "code",
   "execution_count": 132,
   "metadata": {},
   "outputs": [
    {
     "data": {
      "text/plain": [
       "0.0625"
      ]
     },
     "execution_count": 132,
     "metadata": {},
     "output_type": "execute_result"
    }
   ],
   "source": [
    "min([int(d[\"frame_type\"],16)/64 for d in sniffer_recs_plot])"
   ]
  },
  {
   "cell_type": "code",
   "execution_count": 110,
   "metadata": {
    "collapsed": true
   },
   "outputs": [],
   "source": [
    "%matplotlib inline\n",
    "import matplotlib.pyplot as plt"
   ]
  },
  {
   "cell_type": "code",
   "execution_count": null,
   "metadata": {
    "collapsed": true
   },
   "outputs": [],
   "source": []
  },
  {
   "cell_type": "code",
   "execution_count": 133,
   "metadata": {},
   "outputs": [
    {
     "data": {
      "image/png": "[encoded data removed]",
      "text/plain": [
       "<matplotlib.figure.Figure at 0x1d0bb6ac470>"
      ]
     },
     "metadata": {},
     "output_type": "display_data"
    }
   ],
   "source": [
    "plt.scatter([d[\"timestamp\"] for d in sniffer_recs_plot],[d[\"rssi\"] for d in sniffer_recs_plot],c=[d[\"channel\"] for d in sniffer_recs_plot])\n",
    "plt.colorbar()\n",
    "plt.show()"
   ]
  },
  {
   "cell_type": "code",
   "execution_count": 97,
   "metadata": {},
   "outputs": [],
   "source": [
    "sniffer_recs_filtered = [oui_dict[d] for d in list(sniffer_recs_filtered)[:] if d in oui_dict.keys()]"
   ]
  },
  {
   "cell_type": "code",
   "execution_count": 98,
   "metadata": {},
   "outputs": [
    {
     "data": {
      "text/plain": [
       "1868"
      ]
     },
     "execution_count": 98,
     "metadata": {},
     "output_type": "execute_result"
    }
   ],
   "source": [
    "len(sniffer_recs_filtered)"
   ]
  },
  {
   "cell_type": "code",
   "execution_count": 99,
   "metadata": {},
   "outputs": [
    {
     "data": {
      "text/plain": [
       "['MTN Electronic Co. Ltd',\n",
       " 'NVIDIA',\n",
       " 'Chi Mei Communication Systems, Inc',\n",
       " 'FORE SYSTEMS, INC.',\n",
       " 'Sanritz Corporation',\n",
       " 'SIGMEX LTD.',\n",
       " 'Yokogawa Digital Computer Corporation',\n",
       " 'NETWORK RESOURCES CORPORATION',\n",
       " 'IMC NETWORKS CORP.',\n",
       " 'Allied Telesis, Inc.',\n",
       " 'SEIKO SYSTEMS, INC.',\n",
       " 'CIMLINC INCORPORATED',\n",
       " 'SOFTLAB, INC.',\n",
       " 'EDUCATIONAL TECHNOLOGY RESOURCES, INC.',\n",
       " 'CAMTEC ELECTRONICS LTD.',\n",
       " 'SIECOR CORPORATION',\n",
       " 'RG Nets, Inc.',\n",
       " 'MTX, INC.',\n",
       " 'Shanghai Xiaoyi Technology Co., Ltd.',\n",
       " 'ELGIN S.A.',\n",
       " 'ALPS ELECTRIC CO.,LTD.',\n",
       " 'APRIL',\n",
       " 'VICOM SYSTEMS, INC.',\n",
       " 'ASANTE TECHNOLOGIES',\n",
       " 'SUPERNET',\n",
       " 'AMPAK Technology, Inc.',\n",
       " 'MARLI S.A.',\n",
       " 'HAYES MICROCOMPUTER PRODUCTS',\n",
       " 'TCL INCORPORATED',\n",
       " 'LSD Science and Technology Co.,Ltd.',\n",
       " 'Cayee Computer Ltd.',\n",
       " 'Hand Held Products Inc',\n",
       " 'Airbus Defence and Space Deutschland GmbH',\n",
       " 'YOUTH KEEP ENTERPRISE CO LTD',\n",
       " 'SYNTECH(HK) TECHNOLOGY LIMITED',\n",
       " 'COMPUTEX CO., LTD.',\n",
       " 'SCITEX CORPORATION LTD.',\n",
       " 'SBE, INC.',\n",
       " 'Novell, Inc.',\n",
       " 'DONGWON SYSTEMS',\n",
       " 'GLORY, LTD.',\n",
       " 'RAMTEK CORP.',\n",
       " 'Extreme Networks, Inc.',\n",
       " 'Blaupunkt  Embedded Systems GmbH',\n",
       " 'Sony Mobile Communications Inc',\n",
       " 'Tenda Technology Co., Ltd.',\n",
       " 'DENSAN CO., LTD.',\n",
       " 'Artisoft Inc.',\n",
       " 'SysKonnect GmbH',\n",
       " 'AUTOTOTE LIMITED',\n",
       " 'CK Telecom Ltd',\n",
       " 'VTech Telecommunications Ltd.',\n",
       " 'ABB INDUSTRIAL SYSTEMS AB',\n",
       " 'ACTi Corporation',\n",
       " 'Nokia Corporation',\n",
       " 'MICROPROCESS',\n",
       " 'Uplogix, Inc.',\n",
       " 'DATABILITY SOFTWARE SYS. INC.',\n",
       " 'Cryptek Inc.',\n",
       " 'CORNELL UNIVERSITY',\n",
       " 'XYCOM INC.',\n",
       " 'Rockwell Automation',\n",
       " 'PMI FOOD EQUIPMENT GROUP',\n",
       " 'GUANGDONG OPPO MOBILE TELECOMMUNICATIONS CORP.,LTD',\n",
       " 'Annapolis Micro Systems, Inc.',\n",
       " 'PalmPalm Technology, Inc.',\n",
       " 'AMIGO TECHNOLOGY CO., LTD.',\n",
       " 'Isotek Electronics Ltd',\n",
       " 'Neopost Technologies',\n",
       " 'Vodafone Omnitel N.V.',\n",
       " 'SAMSUNG ELECTRO MECHANICS CO., LTD.',\n",
       " 'KEBA GmbH',\n",
       " 'Microsoft Mobile Oy',\n",
       " 'XEROX CORPORATION',\n",
       " 'Ralink Technology, Corp.',\n",
       " 'CSS LABS',\n",
       " 'DMS DORSCH MIKROSYSTEM GMBH',\n",
       " 'SIM Technology Group Shanghai Simcom Ltd.,',\n",
       " 'NETWORK TOOLS, INC.',\n",
       " 'YoungWoo Telecom Co. Ltd.',\n",
       " 'KUBOTEK CORPORATION',\n",
       " 'Bay Networks',\n",
       " 'Alloy Computer Products (Australia) Pty Ltd',\n",
       " 'DIAMOND LANE COMMUNICATIONS',\n",
       " 'CAMEX',\n",
       " 'Altai Technologies Limited',\n",
       " 'DARTMOUTH COLLEGE',\n",
       " 'Actions Microelectronics Co., Ltd',\n",
       " 'ZHONGXING TELECOM LTD.',\n",
       " 'Endeleo Limited',\n",
       " 'Zettamedia Korea',\n",
       " 'PLANEX COMMUNICATIONS INC.',\n",
       " 'Yota Devices OY',\n",
       " 'MEGAHERTZ CORPORATION',\n",
       " 'HOB ELECTRONIC GMBH & CO. KG',\n",
       " 'Data Innovations North America',\n",
       " 'SONY TEKTRONIX CORP.',\n",
       " 'Haier Group Technologies Ltd',\n",
       " 'SHOMITI SYSTEMS INCORPORATED',\n",
       " 'Shanghai Huaqin Telecom Technology Co.,Ltd',\n",
       " 'Lenovo Mobile Communication (Wuhan) Company Limited',\n",
       " 'SOFT * RITE, INC.',\n",
       " 'Digital Data Communications Asia Co.,Ltd',\n",
       " 'Lemobile Information Technology (Beijing) Co., Ltd.',\n",
       " 'Canberra Industries, Inc.',\n",
       " 'CRAY COMMUNICATIONS A/S',\n",
       " 'ADAPTEC INCORPORATED',\n",
       " 'RC COMPUTER A/S',\n",
       " 'Guangda Electronic & Telecommunication Technology Development Co., Ltd.',\n",
       " 'Essential Products, Inc.',\n",
       " 'Genexis BV',\n",
       " 'PSION DACOM PLC.',\n",
       " 'Airgo Networks, Inc.',\n",
       " 'SSH Communications Security Corp.',\n",
       " 'White Rock Networks',\n",
       " 'Oracle',\n",
       " 'VG LABORATORY SYSTEMS LTD',\n",
       " 'Connection Technology Systems',\n",
       " '3COM CORPORATION',\n",
       " 'DEVELCON ELECTRONICS LTD.',\n",
       " 'BELL TECHNOLOGIES',\n",
       " 'FIBRONICS LTD.',\n",
       " 'MITSUMI ELECTRIC CO.,LTD.',\n",
       " 'GATEWAY COMMUNICATIONS',\n",
       " 'MICROPROSS',\n",
       " 'DESKNET SYSTEMS, INC.',\n",
       " 'Zuend Systemtechnik AG',\n",
       " 'COMPAL INFORMATION (KUNSHAN) CO., LTD.',\n",
       " 'CONTROLWARE GMBH',\n",
       " 'Shenzhen Qihu Intelligent Technology Company Limited',\n",
       " 'Hon Hai Precision Ind. Co.,Ltd.',\n",
       " 'RICOH COMPANY LTD.',\n",
       " 'Nortel Networks',\n",
       " 'SYMMETRIC COMPUTER SYSTEMS',\n",
       " 'BEB Industrie-Elektronik AG',\n",
       " 'GEW Technologies (PTY)Ltd',\n",
       " 'Motorola (Wuhan) Mobility Technologies Communication Co., Ltd.',\n",
       " 'Huaqin Telecom Technology Co.,Ltd',\n",
       " 'Lightner Engineering',\n",
       " 'AirLink WiFi Networking Corp.',\n",
       " 'Microsoft',\n",
       " 'Microsoft Corporation',\n",
       " 'XPOINT TECHNOLOGIES, INC.',\n",
       " 'Yulong Computer Telecommunication Scientific (Shenzhen) Co.,Ltd',\n",
       " 'DATAPOINT CORPORATION',\n",
       " 'Sagemcom Broadband SAS',\n",
       " 'COMPUTER CONSOLES INC.',\n",
       " 'Samsung Electronics Co.,Ltd',\n",
       " 'Envenergy Inc',\n",
       " 'SHENZHEN MERCURY COMMUNICATION TECHNOLOGIES CO.,LTD.',\n",
       " 'B-Link Electronic Limited',\n",
       " 'Shenzhen Four Seas Global Link Network Technology Co., Ltd.',\n",
       " 'DR. B. STRUCK',\n",
       " 'IN2 GROUPE INTERTECHNIQUE',\n",
       " 'Mobileeco Co., Ltd',\n",
       " 'Google, Inc.',\n",
       " 'Epigram, Inc.',\n",
       " 'ROSEMOUNT CONTROLS',\n",
       " 'Silex Technology, Inc.',\n",
       " 'Rivet Networks',\n",
       " 'Qamcom Technology AB',\n",
       " 'PROTEON INC.',\n",
       " 'SIMPACT',\n",
       " 'Videoframe Systems',\n",
       " 'BELL & HOWELL PUB SYS DIV',\n",
       " 'F5 Networks, Inc.',\n",
       " 'Star Gate Technologies',\n",
       " 'LABTAM LIMITED',\n",
       " 'Cisco-Linksys, LLC',\n",
       " 'NETRONIX',\n",
       " 'Lenovo (Beijing) Co., Ltd.',\n",
       " 'Benchmark Electronics ( Thailand ) Public Company Limited',\n",
       " 'HUAWEI TECHNOLOGIES CO.,LTD',\n",
       " 'CONNECT AS',\n",
       " 'LOGICRAFT, INC.',\n",
       " 'Shenzhen Reecam Tech.Ltd.',\n",
       " 'ATARI CORPORATION',\n",
       " 'EDUP INTERNATIONAL (HK) CO., LTD',\n",
       " 'Wistron Neweb Corporation',\n",
       " 'Emulex Corporation',\n",
       " 'PEAK AUDIO',\n",
       " 'Raytheon',\n",
       " 'NetEnabled, Inc.',\n",
       " 'CENTRAL DATA CORPORATION',\n",
       " 'zte corporation',\n",
       " 'Arcadyan Technology Corporation',\n",
       " 'Espressif Inc.',\n",
       " 'Orban',\n",
       " 'SPECTRAGRAPHICS CORPORATION',\n",
       " 'Telemax Co., Ltd.',\n",
       " 'NSM Technology Ltd.',\n",
       " 'ASKEY COMPUTER CORP',\n",
       " 'MESA ELECTRONICS',\n",
       " 'NORMEREL SYSTEMES',\n",
       " 'HCL LIMITED',\n",
       " 'NIPPON TELEGRAPH & TELEPHONE',\n",
       " 'China Dragon Technology Limited',\n",
       " 'SAMSUNG ELECTRO-MECHANICS(THAILAND)',\n",
       " 'SOTEC CO., LTD',\n",
       " 'Schneider Electric',\n",
       " 'D-Link International',\n",
       " 'Broadmax Technologies, Inc.',\n",
       " 'Qiku Internet Network Scientific (Shenzhen) Co., Ltd.',\n",
       " 'SEIKOSHA CO., LTD.',\n",
       " 'CITADEL COMPUTER',\n",
       " 'Oracle Corporation',\n",
       " 'Shenzhen Zowee Technology Co., Ltd',\n",
       " 'INTEGRATED MICRO PRODUCTS LTD',\n",
       " 'LOCUS COMPUTING CORPORATION',\n",
       " 'Kaparel Corporation',\n",
       " 'INFOTEK COMMUNICATIONS, INC.',\n",
       " 'TALARIS SYSTEMS, INC.',\n",
       " 'Danaher Motion - Kollmorgen',\n",
       " 'SENAO Networks, Inc.',\n",
       " 'NET2NET CORPORATION',\n",
       " 'MATSUSHITA COMM. IND. CO. LTD.',\n",
       " 'DIAMOND SALES LIMITED',\n",
       " 'LOGIC MODELING CORPORATION',\n",
       " 'TERAOKA WEIGH SYSTEM PTE, LTD.',\n",
       " 'APPLIED MICROSYSTEMS CORP.',\n",
       " 'Tattile SRL',\n",
       " 'DU PONT PIXEL SYSTEMS     .',\n",
       " 'HONGKONG UCLOUDLINK NETWORK TECHNOLOGY LIMITED',\n",
       " 'SILICON GRAPHICS INC./MIPS',\n",
       " 'APPLICON, INC.',\n",
       " 'Gigaset Digital Technology (Shenzhen) Co., Ltd.',\n",
       " 'Beijing SHENQI Technology Co., Ltd.',\n",
       " 'CONCORD COMMUNICATIONS INC',\n",
       " 'XIAMEN MEITU MOBILE TECHNOLOGY CO.LTD',\n",
       " 'KUKA WELDING SYSTEMS & ROBOTS',\n",
       " 'Avitech International Corp',\n",
       " 'MINIWARE TECHNOLOGY',\n",
       " 'Chicony Electronics Co., Ltd.',\n",
       " 'Universal Global Scientific Industrial Co., Ltd.',\n",
       " 'LECTRA SYSTEMES SA',\n",
       " 'DAISY SYSTEMS CORP.',\n",
       " 'TP-LINK TECHNOLOGIES CO.,LTD.',\n",
       " 'Shenzhen TONG BO WEI Technology CO.,LTD',\n",
       " 'CLUSTRIX CORPORATION',\n",
       " 'Zebra Technologies Inc',\n",
       " 'ICL DATA OY',\n",
       " 'Redes de Telefonía Móvil S.A.',\n",
       " 'MARCONI ELECTRONICS LTD.',\n",
       " 'S.I. Soubou, Inc.',\n",
       " 'Shenzhen 10MOONS Technology Development CO.,Ltd',\n",
       " 'COMPACT DEVICES, INC.',\n",
       " 'JAPAN RADIO COMPANY',\n",
       " 'UPNOD AB',\n",
       " 'Hangzhou H3C Technologies Co., Limited',\n",
       " 'Option International N.V.',\n",
       " 'Barco Projection Systems NV',\n",
       " 'Technicolor',\n",
       " 'Zenitron Corporation',\n",
       " 'FUJITSU LIMITED',\n",
       " 'SOCIETE EVIRA',\n",
       " 'INFORMATION PRESENTATION TECH.',\n",
       " 'STAUBLI',\n",
       " 'INFOTRON',\n",
       " 'Fortinet Inc.',\n",
       " 'Taiyo Yuden Co., Ltd.',\n",
       " 'QPSX COMMUNICATIONS, LTD.',\n",
       " 'Slim Devices, Inc.',\n",
       " 'Cisco Systems, Inc',\n",
       " 'Zhejiang Yutong Network Communication Co Ltd.',\n",
       " 'Bardac Corporation',\n",
       " 'OnePlus Technology (Shenzhen) Co., Ltd',\n",
       " 'Hewlett Packard',\n",
       " 'DigitAll World Co., Ltd',\n",
       " 'ROLM MIL-SPEC COMPUTERS',\n",
       " 'SOLBOURNE COMPUTER, INC.',\n",
       " 'ECOLE POLYTECHNIQUE FEDERALE DE LAUSANNE (EPFL)',\n",
       " 'SANYO Electric Co., Ltd.',\n",
       " 'INFORMATION TECHNOLOGY LIMITED',\n",
       " 'G. Star Technology Corporation',\n",
       " 'THE NTI GROUP',\n",
       " 'Kumahira Co., Ltd.',\n",
       " 'ACORN COMPUTERS LIMITED',\n",
       " 'Ultra Stereo Labs, Inc',\n",
       " 'CRAY COMMUNICATIONS, LTD.',\n",
       " 'OPTIQUEST',\n",
       " 'Zioncom Electronics (Shenzhen) Ltd.',\n",
       " 'SHIN-OH ELECTRONICS CO., LTD. R&D',\n",
       " 'QUICK CONTROLS LTD.',\n",
       " 'HARRIS CORP COMPUTER SYS DIV',\n",
       " 'Intel Corporate',\n",
       " 'QUADRAM CORP.',\n",
       " 'METIER MANAGEMENT SYSTEMS LTD.',\n",
       " 'HighSpeed Surfing Inc.',\n",
       " 'CyberTAN Technology Inc.',\n",
       " 'Superior Modular Products',\n",
       " 'CAYMAN SYSTEMS INC.',\n",
       " 'WATERS DIV. OF MILLIPORE',\n",
       " 'SUREMAN COMP. & COMMUN. CORP.',\n",
       " 'PUNCH LINE HOLDING',\n",
       " 'NETWORK GENERAL CORPORATION',\n",
       " 'Dell EMC',\n",
       " 'BUFFALO.INC',\n",
       " 'Arcon Technology Limited',\n",
       " 'vivo Mobile Communication Co., Ltd.',\n",
       " 'Li Seng Technology Ltd',\n",
       " 'ADVANTECH CO., LTD.',\n",
       " 'Atheros Communications, Inc.',\n",
       " 'Net & Sys Co., Ltd.',\n",
       " 'EGAN MACHINERY COMPANY',\n",
       " 'COMPU-SHACK ELECTRONIC GMBH',\n",
       " 'CHYRON CORPORATION',\n",
       " 'ThinkFlood, Inc.',\n",
       " 'RICARDO TEST AUTOMATION LTD.',\n",
       " 'Unico, Inc.',\n",
       " 'SHARP Corporation',\n",
       " 'ATEX',\n",
       " 'IN-NET CORP.',\n",
       " 'APPLIED DYNAMICS INTERNATIONAL',\n",
       " 'Nudian Electron Co., Ltd.',\n",
       " 'Atrie',\n",
       " 'DIVIO, INC.',\n",
       " 'Sanko Electronics Co., Ltd.',\n",
       " 'Nintendo Co.,Ltd',\n",
       " 'Shenzhen Ogemray Technology Co., Ltd.',\n",
       " 'MICRO TECHNOLOGY',\n",
       " 'Amazon Technologies Inc.',\n",
       " 'Analog Devices, Inc.',\n",
       " 'TOSHIBA CORPORATION',\n",
       " 'China Mobile Group Device Co.,Ltd.',\n",
       " 'ProQuent Systems',\n",
       " 'RND-RAD NETWORK DEVICES',\n",
       " 'Shanghai Wind Technologies Co.,Ltd',\n",
       " 'CETIA',\n",
       " 'INTERPHASE CORPORATION',\n",
       " 'Partron',\n",
       " 'ACRES GAMING, INC.',\n",
       " 'MEIZU Technology Co., Ltd.',\n",
       " 'AVSystem',\n",
       " 'Edimax Technology Co. Ltd.',\n",
       " 'PRISA NETWORKS',\n",
       " 'Dyson Limited',\n",
       " 'AMPERE INCORPORATED',\n",
       " 'PERIPHONICS CORPORATION',\n",
       " 'Nanoteq',\n",
       " 'Beijing LT Honway Technology Co.,Ltd',\n",
       " 'Shenzhen Bilian electronic CO.,LTD',\n",
       " 'Telco Systems, Inc.',\n",
       " 'ARIX CORPORATION',\n",
       " 'TRANSYS NETWORKS INC.',\n",
       " \"EQUIP'TRANS\",\n",
       " 'Marconi Communication GmbH',\n",
       " 'WEBSTER COMPUTER CORPORATION',\n",
       " 'REUTERS HOLDINGS PLC',\n",
       " 'PACIFIC MICRO DATA, INC.',\n",
       " 'IEEE 802.11',\n",
       " 'Barracuda Networks, Inc.',\n",
       " 'G-PRO COMPUTER',\n",
       " 'WANG LABORATORIES INC.',\n",
       " 'MARQUETTE ELECTRIC CO.',\n",
       " 'QSC LLC',\n",
       " 'Smartisan Technology Co., Ltd.',\n",
       " 'NETGEAR',\n",
       " 'ACCTON TECHNOLOGY CORP.',\n",
       " 'QUALICABLE TV Industria E Com., Ltda',\n",
       " 'Symmetricom, Inc.',\n",
       " 'ACER TECHNOLOGIES CORP.',\n",
       " 'CROSSCOMM CORPORATION',\n",
       " 'DANIEL INSTRUMENTS, LTD.',\n",
       " 'Mainstream Data, Inc.',\n",
       " 'NEXT, INC.',\n",
       " 'Gloscom Co., Ltd.',\n",
       " 'LG Innotek',\n",
       " 'Qihoo  360  Technology Co.,Ltd',\n",
       " 'BULL HN INFORMATION SYSTEMS',\n",
       " 'DAQ System',\n",
       " 'Pittasoft',\n",
       " 'AVM GmbH',\n",
       " 'Janam Technologies LLC',\n",
       " 'DASSAULT ELECTRONIQUE',\n",
       " 'Aruba Networks',\n",
       " 'iMPath Networks, Inc.',\n",
       " 'Belkin International Inc.',\n",
       " 'ASUSTek COMPUTER INC.',\n",
       " 'SIIG, INC.',\n",
       " 'Texas Instruments',\n",
       " 'DATAINDUSTRIER DIAB AB',\n",
       " 'MICROTRONIX DATACOM LTD.',\n",
       " 'Foxconn(NanJing) Communication Co.,Ltd.',\n",
       " 'VisionGlobal Network Corp.',\n",
       " 'Nubia Technology Co.,Ltd.',\n",
       " 'i Controls, Inc.',\n",
       " 'WISOL',\n",
       " 'SPIDER COMMUNICATIONS',\n",
       " 'Lenovo Mobile Communication Technology Ltd.',\n",
       " 'TIMEPLEX INC.',\n",
       " 'Cogency Semiconductor, Inc.',\n",
       " 'Motorola Mobility LLC, a Lenovo Company',\n",
       " 'WESTERN DIGITAL CORPORATION',\n",
       " 'NETWORK APPLICATION TECHNOLOGY',\n",
       " 'DLOG NC-SYSTEME',\n",
       " 'SHA-KEN CO., LTD.',\n",
       " 'NMS Communications',\n",
       " 'Xmark Corporation',\n",
       " 'Intrusion.com, Inc.',\n",
       " 'KITA DENSHI CORPORATION',\n",
       " 'Letv Mobile and Intelligent Information Technology (Beijing) Corporation Ltd.',\n",
       " 'HTC Corporation',\n",
       " 'Gionee Communication Equipment Co.,Ltd.',\n",
       " 'CASTELLE CORPORATION',\n",
       " 'TELEVIDEO SYSTEMS, INC.',\n",
       " 'DCI CORPORATION',\n",
       " 'PSI Nentec GmbH',\n",
       " 'Soronti, Inc.',\n",
       " 'PRODIGY SYSTEMS CORPORATION',\n",
       " 'Octopus Systems Limited',\n",
       " 'UNISYS',\n",
       " 'PERIPHERALS ENTERPRISE CO., Ltd.',\n",
       " 'QUALITY SEMICONDUCTOR',\n",
       " 'Wingtech Group (HongKong）Limited',\n",
       " 'HONG KONG WHEATEK TECHNOLOGY LIMITED',\n",
       " 'BARCO CONTROL ROOMS GMBH',\n",
       " 'VISUAL TECHNOLOGY INC.',\n",
       " 'ZIMI CORPORATION',\n",
       " 'Sichuan Tianyi Information Science & Technology Stock CO.,LTD',\n",
       " 'Nokia Danmark A/S',\n",
       " 'RACORE COMPUTER PRODUCTS INC.',\n",
       " 'CHROMATICS INC',\n",
       " 'New Singularity International Technical Development Co.,Ltd',\n",
       " 'DDRdrive LLC',\n",
       " 'NETWORK DESIGNERS, LTD.',\n",
       " 'Jetway Information Co., Ltd.',\n",
       " 'OnePlus Tech (Shenzhen) Ltd',\n",
       " 'Fastfame Technology Co., Ltd.',\n",
       " 'Banner Engineering',\n",
       " 'MCDONNELL DOUGLAS COMPUTER SYS',\n",
       " 'ROSS TECHNOLOGY, INC.',\n",
       " 'COMPUCORP',\n",
       " 'saxnet gmbh',\n",
       " 'AUSPEX SYSTEMS INC.',\n",
       " 'Samjeon',\n",
       " 'FORD AEROSPACE & COMM. CORP.',\n",
       " 'KONTRON ELEKTRONIK GMBH',\n",
       " 'Helmholtz Centre Berlin for Material and Energy',\n",
       " 'ELTEC ELEKTRONIK AG',\n",
       " 'Prime Electronics & Satellitics Inc.',\n",
       " 'SHENZHEN BILIAN ELECTRONIC CO.，LTD',\n",
       " 'Xiaomi Communications Co Ltd',\n",
       " 'Nintendo Co., Ltd.',\n",
       " 'MEIKO',\n",
       " 'COMPUSERVE, INC.',\n",
       " 'Shenzhen Neostra Technology Co.Ltd',\n",
       " 'LynTec',\n",
       " 'TRICORD SYSTEMS, INC.',\n",
       " 'RADISYS CORPORATION',\n",
       " 'Ruckus Wireless',\n",
       " 'TCT mobile ltd',\n",
       " 'LINOTYPE-HELL AG',\n",
       " 'NETWORK SYSTEMS CORP.',\n",
       " 'Shenzhen Elink Technology Co., LTD',\n",
       " 'AMPEX CORPORATION',\n",
       " 'SORD COMPUTER CORPORATION',\n",
       " 'Allied Telesis Labs Ltd',\n",
       " 'Wistron Corporation',\n",
       " 'Tenda Technology Co.,Ltd.Dongguan branch',\n",
       " 'Topspin Communications, Inc.',\n",
       " 'UNGERMANN-BASS INC.',\n",
       " 'Private',\n",
       " 'REALTEK SEMICONDUCTOR CORP.',\n",
       " 'PATAPSCO DESIGNS',\n",
       " 'HITACHI, LTD.',\n",
       " 'ICANN, IANA Department',\n",
       " 'Broadband Technologies',\n",
       " 'Murata Manufacturing Co., Ltd.',\n",
       " 'MATRIX CORPORATION',\n",
       " 'Apple, Inc.',\n",
       " 'COGENT DATA TECHNOLOGIES',\n",
       " 'MICROGNOSIS INTERNATIONAL',\n",
       " 'ALLIED TELESYN INTERNAIONAL',\n",
       " 'PURE DATA LTD.',\n",
       " 'NEC CORPORATION',\n",
       " 'Hui Zhou Gaoshengda Technology Co.,LTD',\n",
       " 'MICROSOFT CORP.',\n",
       " 'TOYODA MACHINE WORKS, LTD.',\n",
       " 'Bose Corporation',\n",
       " 'Bitworks, Inc.',\n",
       " 'Liteon Technology Corporation',\n",
       " 'HITACHI COMPUTER PRODUCTS (AMERICA), INC.',\n",
       " 'Shenzhen Urovo Technology Co.,Ltd.',\n",
       " 'IEEE Registration Authority',\n",
       " 'Wi-Fi Alliance',\n",
       " 'TEKRAM TECHNOLOGY CO., LTD.',\n",
       " 'Logic Controls, Inc.',\n",
       " 'GridIron Systems, Inc.',\n",
       " 'Marconi plc',\n",
       " 'TADPOLE TECHNOLOGY PLC',\n",
       " 'XIAOMI Electronics,CO.,LTD',\n",
       " 'Telecom Design',\n",
       " 'Legra Systems, Inc.',\n",
       " 'TELEMATICS INTERNATIONAL INC.',\n",
       " 'CONWARE COMPUTER CONSULTING',\n",
       " 'D-Link Corporation',\n",
       " 'Fa. Metabox AG',\n",
       " 'SHANGHAI SIMCOM LIMITED',\n",
       " 'SHENZHEN RF-LINK TECHNOLOGY CO.,LTD.',\n",
       " 'RESEARCH MACHINES',\n",
       " 'TRW - SEDD/INP',\n",
       " 'Pantech Co., Ltd.',\n",
       " 'COMMISSARIAT A L`ENERGIE ATOM.',\n",
       " 'Shanghai Jing Ren Electronic Technology Co., Ltd.',\n",
       " 'Lemobile Information Technology (Beijing) Co., Ltd',\n",
       " 'Sprecher Automation GmbH',\n",
       " 'Alpha Micro',\n",
       " 'Chiun Mai Communication Systems, Inc',\n",
       " 'CANON INC.',\n",
       " 'TEKTRONIX INC.',\n",
       " 'Shenzhen TINNO Mobile Technology Corp.',\n",
       " 'InPro Comm',\n",
       " 'AMERISTAR TECHNOLOGIES INC.',\n",
       " 'Hose-McCann Communications',\n",
       " 'Madge Ltd.',\n",
       " 'OMRON TATEISI ELECTRONICS CO.',\n",
       " 'ALTOS COMPUTER SYSTEMS',\n",
       " 'Giantec, Inc.',\n",
       " 'ISICAD, INC.',\n",
       " 'Stratus Technologies',\n",
       " 'SYNERGY (UK) LTD.',\n",
       " 'CRISP AUTOMATION, INC',\n",
       " 'GIGA-BYTE TECHNOLOGY CO.,LTD.',\n",
       " 'CS TELECOM',\n",
       " 'RECHNER ZUR KOMMUNIKATION',\n",
       " 'IBM Corp',\n",
       " 'HIGH LEVEL HARDWARE',\n",
       " 'ABEKAS VIDEO SYSTEM',\n",
       " 'Seiko Epson Corporation',\n",
       " 'AzureWave Technology Inc.',\n",
       " 'InnoSys, Inc.',\n",
       " 'Sumitomo Electric Industries,Ltd',\n",
       " 'MACROVISION CORPORATION',\n",
       " 'NICOLET INSTRUMENTS CORP.',\n",
       " 'ACUITY IMAGING, INC.',\n",
       " 'LEXMARK INTERNATIONAL, INC.',\n",
       " 'Extenway Solutions Inc',\n",
       " 'COPPER MOUNTAIN COMMUNICATIONS, INC.',\n",
       " 'Softwell Technology Co., Ltd.',\n",
       " 'PEGATRON CORPORATION',\n",
       " 'SYTEK INC.',\n",
       " 'Fairphone',\n",
       " 'Juniper Networks',\n",
       " 'FN-LINK TECHNOLOGY LIMITED',\n",
       " 'FEEDBACK DATA LTD.',\n",
       " 'DVICO Co., Ltd.',\n",
       " 'TRI-DATA',\n",
       " 'DEWAV (HK) ELECTRONICS LIMITED',\n",
       " 'Cabletron Systems, Inc.',\n",
       " 'MEGADATA CORP.',\n",
       " 'Westell Technologies Inc.',\n",
       " 'ARRIS Group, Inc.',\n",
       " 'Ceemax Technology Co., Ltd.',\n",
       " 'ICE CORPORATION',\n",
       " 'British Telecommunications plc',\n",
       " 'Cambridge Industries(Group) Co.,Ltd.',\n",
       " 'BlackBerry RTS',\n",
       " 'JEAN Co. Ltd.',\n",
       " 'QUOTRON SYSTEMS INC.',\n",
       " 'ADC CODENOLL TECHNOLOGY CORP.',\n",
       " 'INVENTEC Corporation',\n",
       " 'NEOTION',\n",
       " 'LG Electronics (Mobile Communications)',\n",
       " 'AWIND Inc.',\n",
       " 'OXFORD METRICS LIMITED']"
      ]
     },
     "execution_count": 99,
     "metadata": {},
     "output_type": "execute_result"
    }
   ],
   "source": [
    "list(set(sniffer_recs_filtered))"
   ]
  },
  {
   "cell_type": "code",
   "execution_count": 24,
   "metadata": {},
   "outputs": [],
   "source": [
    "oui_txt = []\n",
    "with open(\"oui.txt\",encoding=\"utf8\") as f:\n",
    "    oui_txt = list(f)"
   ]
  },
  {
   "cell_type": "code",
   "execution_count": 29,
   "metadata": {
    "collapsed": true
   },
   "outputs": [],
   "source": [
    "oui_txt = [o for o in oui_txt[:] if \"(base 16)\" in o]"
   ]
  },
  {
   "cell_type": "code",
   "execution_count": 33,
   "metadata": {},
   "outputs": [
    {
     "data": {
      "text/plain": [
       "'3CD92B     (base 16)\\t\\tHewlett Packard\\n'"
      ]
     },
     "execution_count": 33,
     "metadata": {},
     "output_type": "execute_result"
    }
   ],
   "source": [
    "oui_txt[2]"
   ]
  },
  {
   "cell_type": "code",
   "execution_count": 34,
   "metadata": {},
   "outputs": [],
   "source": [
    "# Post processing oui_txt\n",
    "oui_dict = {}\n",
    "for o in oui_txt:\n",
    "    oui_dict[o[:6].lower()] = o.split('\\t\\t')[1].strip()"
   ]
  },
  {
   "cell_type": "code",
   "execution_count": null,
   "metadata": {},
   "outputs": [],
   "source": []
  },
  {
   "cell_type": "code",
   "execution_count": 13,
   "metadata": {
    "collapsed": true
   },
   "outputs": [],
   "source": [
    "from collections import Counter"
   ]
  },
  {
   "cell_type": "code",
   "execution_count": 26,
   "metadata": {},
   "outputs": [
    {
     "data": {
      "text/plain": [
       "[(-86, 4659),\n",
       " (-87, 4578),\n",
       " (-88, 4480),\n",
       " (-85, 4315),\n",
       " (-89, 4153),\n",
       " (-84, 4144),\n",
       " (-83, 3879),\n",
       " (-90, 3587),\n",
       " (-82, 3562),\n",
       " (-81, 3308)]"
      ]
     },
     "execution_count": 26,
     "metadata": {},
     "output_type": "execute_result"
    }
   ],
   "source": [
    "Counter(d[\"rssi\"] for d in sniffer_recs).most_common(10)"
   ]
  },
  {
   "cell_type": "code",
   "execution_count": 37,
   "metadata": {
    "collapsed": true
   },
   "outputs": [],
   "source": [
    "common_src_macs = set(d[\"src_mac\"] for d in sniffer_435) & set(d[\"src_mac\"] for d in sniffer_436) & set(d[\"src_mac\"] for d in sniffer_437)"
   ]
  },
  {
   "cell_type": "code",
   "execution_count": 38,
   "metadata": {},
   "outputs": [
    {
     "data": {
      "text/plain": [
       "26"
      ]
     },
     "execution_count": 38,
     "metadata": {},
     "output_type": "execute_result"
    }
   ],
   "source": [
    "for m in common_src_macs:\n",
    "    "
   ]
  },
  {
   "cell_type": "code",
   "execution_count": 291,
   "metadata": {
    "collapsed": true
   },
   "outputs": [],
   "source": [
    "# Find unique mac addresses\n",
    "sniffer_recs_pr = [s for s in sniffer_recs if s[\"frame_type\"] == \"04\"]"
   ]
  },
  {
   "cell_type": "code",
   "execution_count": 295,
   "metadata": {},
   "outputs": [
    {
     "data": {
      "text/plain": [
       "21844"
      ]
     },
     "execution_count": 295,
     "metadata": {},
     "output_type": "execute_result"
    }
   ],
   "source": [
    "srpr_plot = list(set(s[\"src_mac\"] for s in sniffer_recs_pr))\n",
    "len(srpr_plot)"
   ]
  },
  {
   "cell_type": "code",
   "execution_count": 296,
   "metadata": {},
   "outputs": [
    {
     "data": {
      "text/plain": [
       "[('a8b86e501420', 44608),\n",
       " ('d065ca104050', 38194),\n",
       " ('28c2dd3022eb', 20012),\n",
       " ('00478429ff3f', 18290),\n",
       " ('2cf0ee2c6c50', 15037),\n",
       " ('e0accb8341c0', 12439),\n",
       " ('e89eb497e79f', 11978),\n",
       " ('14109fe2838d', 11364),\n",
       " ('c0cecdc064a6', 11192),\n",
       " ('ec3dfddcceea', 10460)]"
      ]
     },
     "execution_count": 296,
     "metadata": {},
     "output_type": "execute_result"
    }
   ],
   "source": [
    "sr_uniq_macs = Counter(s[\"src_mac\"] for s in sniffer_recs)\n",
    "sr_uniq_macs.most_common(10)"
   ]
  },
  {
   "cell_type": "code",
   "execution_count": 315,
   "metadata": {},
   "outputs": [],
   "source": [
    "def plot_type_rssi(mac):\n",
    "    plt.figure()\n",
    "    sr_thismac = [s for s in sniffer_recs if s[\"src_mac\"] == mac]\n",
    "    plt.scatter([s[\"timestamp\"]/1000 for s in sr_thismac],[s[\"rssi\"] for s in sr_thismac],norm=plt.Normalize(0,64),c=[int(s[\"frame_type\"],16) for s in sr_thismac])\n",
    "    plt.xlim(0,300)\n",
    "    plt.ylim(-100,-30)\n",
    "    plt.colorbar()\n",
    "    plt.title(mac+' frame type')\n",
    "    plt.plot()\n",
    "\n",
    "    plt.figure()\n",
    "    sr_thismac = [s for s in sniffer_recs if s[\"src_mac\"] == mac]\n",
    "    plt.scatter([s[\"timestamp\"]/1000 for s in sr_thismac],[s[\"rssi\"] for s in sr_thismac],norm=plt.Normalize(0,14),c=[int(s[\"channel\"]) for s in sr_thismac])\n",
    "    plt.xlim(0,300)\n",
    "    plt.ylim(-100,-30)\n",
    "    plt.colorbar()\n",
    "    plt.title(mac+' channel')\n",
    "    plt.plot()"
   ]
  },
  {
   "cell_type": "code",
   "execution_count": 316,
   "metadata": {},
   "outputs": [
    {
     "data": {
      "text/plain": [
       "[None, None, None]"
      ]
     },
     "execution_count": 316,
     "metadata": {},
     "output_type": "execute_result"
    },
    {
     "data": {
      "image/png": "[encoded data removed]",
      "text/plain": [
       "<matplotlib.figure.Figure at 0x1d088197c18>"
      ]
     },
     "metadata": {},
     "output_type": "display_data"
    },
    {
     "data": {
      "image/png": "[encoded data removed]",
      "text/plain": [
       "<matplotlib.figure.Figure at 0x1d08829d6d8>"
      ]
     },
     "metadata": {},
     "output_type": "display_data"
    },
    {
     "data": {
      "image/png": "[encoded data removed]",
      "text/plain": [
       "<matplotlib.figure.Figure at 0x1d088086a90>"
      ]
     },
     "metadata": {},
     "output_type": "display_data"
    },
    {
     "data": {
      "image/png": "[encoded data removed]",
      "text/plain": [
       "<matplotlib.figure.Figure at 0x1d0882239e8>"
      ]
     },
     "metadata": {},
     "output_type": "display_data"
    },
    {
     "data": {
      "image/png": "[encoded data removed]",
      "text/plain": [
       "<matplotlib.figure.Figure at 0x1d089729390>"
      ]
     },
     "metadata": {},
     "output_type": "display_data"
    },
    {
     "data": {
      "image/png": "[encoded data removed]",
      "text/plain": [
       "<matplotlib.figure.Figure at 0x1d0885659b0>"
      ]
     },
     "metadata": {},
     "output_type": "display_data"
    }
   ],
   "source": [
    "[plot_type_rssi(mac[0]) for mac in sr_uniq_macs.most_common(3)]"
   ]
  },
  {
   "cell_type": "code",
   "execution_count": null,
   "metadata": {
    "collapsed": true
   },
   "outputs": [],
   "source": []
  }
 ],
 "metadata": {
  "kernelspec": {
   "display_name": "Python 3",
   "language": "python",
   "name": "python3"
  },
  "language_info": {
   "codemirror_mode": {
    "name": "ipython",
    "version": 3
   },
   "file_extension": ".py",
   "mimetype": "text/x-python",
   "name": "python",
   "nbconvert_exporter": "python",
   "pygments_lexer": "ipython3",
   "version": "3.6.1"
  }
 },
 "nbformat": 4,
 "nbformat_minor": 2
}
